{
 "cells": [
  {
   "cell_type": "markdown",
   "metadata": {
    "collapsed": true
   },
   "source": [
    "# Build a CNN Classifier with custom estimator for MNIST dataset\n"
   ]
  },
  {
   "cell_type": "code",
   "execution_count": 1,
   "metadata": {
    "collapsed": true
   },
   "outputs": [],
   "source": [
    "from __future__ import absolute_import\n",
    "from __future__ import division\n",
    "from __future__ import print_function\n",
    "\n",
    "import argparse\n",
    "import sys\n",
    "import tempfile\n",
    "\n",
    "from six.moves import urllib\n",
    "\n",
    "import numpy as np\n",
    "import pandas as pd\n",
    "import tensorflow as tf\n",
    "\n",
    "from tensorflow.examples.tutorials.mnist import input_data\n",
    "\n",
    "tf.logging.set_verbosity(tf.logging.INFO)\n",
    "\n",
    "LEARNING_RATE = 3e-5\n",
    "DROPOUT = 0.5\n",
    "MAX_STEPS = 20000"
   ]
  },
  {
   "cell_type": "markdown",
   "metadata": {
    "collapsed": true
   },
   "source": [
    "### Loading MNIST training, test and prediction datasets"
   ]
  },
  {
   "cell_type": "code",
   "execution_count": 2,
   "metadata": {},
   "outputs": [
    {
     "name": "stdout",
     "output_type": "stream",
     "text": [
      "Extracting MNIST_data/train-images-idx3-ubyte.gz\n",
      "Extracting MNIST_data/train-labels-idx1-ubyte.gz\n",
      "Extracting MNIST_data/t10k-images-idx3-ubyte.gz\n",
      "Extracting MNIST_data/t10k-labels-idx1-ubyte.gz\n"
     ]
    }
   ],
   "source": [
    "mnist = input_data.read_data_sets('MNIST_data')\n",
    "\n",
    "# Training examples\n",
    "train_set = mnist.train\n",
    "\n",
    "# Test examples\n",
    "eval_set = mnist.validation\n",
    "\n",
    "# Predict examples\n",
    "test_set = mnist.test"
   ]
  },
  {
   "cell_type": "markdown",
   "metadata": {
    "collapsed": true
   },
   "source": [
    "### Weight Initialization"
   ]
  },
  {
   "cell_type": "code",
   "execution_count": 3,
   "metadata": {
    "collapsed": true
   },
   "outputs": [],
   "source": [
    "def weight_variable(shape):\n",
    "  initial = tf.truncated_normal(shape, stddev=0.1)\n",
    "  return tf.Variable(initial)\n",
    "\n",
    "def bias_variable(shape):\n",
    "  initial = tf.constant(0.1, shape=shape)\n",
    "  return tf.Variable(initial)"
   ]
  },
  {
   "cell_type": "markdown",
   "metadata": {
    "collapsed": true
   },
   "source": [
    "### Convolution and Pooling\n",
    "\n",
    "* padding could be \"SAME\" or \"VALID\"\n",
    "* strides has shape [batch, height, width, channels]\n",
    "* ksize has shape [batch, height, width, channels]"
   ]
  },
  {
   "cell_type": "code",
   "execution_count": 4,
   "metadata": {
    "collapsed": true
   },
   "outputs": [],
   "source": [
    "def conv2d(x, W):\n",
    "  return tf.nn.conv2d(x, W, strides=[1, 1, 1, 1], padding='SAME')\n",
    "\n",
    "\n",
    "def max_pool_2x2(x):\n",
    "  return tf.nn.max_pool(x, ksize=[1, 2, 2, 1],\n",
    "                        strides=[1, 2, 2, 1], padding='SAME')"
   ]
  },
  {
   "cell_type": "markdown",
   "metadata": {
    "collapsed": true
   },
   "source": [
    "### Building the model function\n",
    "\n",
    "* x_image has shape: [batch, in_height, in_width, in_channels]\n",
    "\n",
    "* W_conv1,2 has shape: [filter_height, filter_width, in_channels, out_channels]"
    "\n",
    "* W_fc1,2 has shape: [in_channels, out_channels]"
   ]
  },
  {
   "cell_type": "code",
   "execution_count": 5,
   "metadata": {
    "collapsed": true
   },
   "outputs": [],
   "source": [
    "def model_fn(features, labels, mode, params):\n",
    "  \"\"\"Model function for Estimator.\"\"\"\n",
    "\n",
    "  # Input reshape\n",
    "  x_image = tf.reshape(features[\"x\"], [-1, 28, 28, 1])\n",
    "\n",
    "  # First Convolutional Layer\n",
    "  W_conv1 = weight_variable([5, 5, 1, 32])\n",
    "  b_conv1 = bias_variable([32])\n",
    "  h_conv1 = tf.nn.relu(conv2d(x_image, W_conv1) + b_conv1)\n",
    "  h_pool1 = max_pool_2x2(h_conv1)\n",
    "\n",
    "  # Second Convolutional Layer\n",
    "  W_conv2 = weight_variable([5, 5, 32, 64])\n",
    "  b_conv2 = bias_variable([64])\n",
    "  h_conv2 = tf.nn.relu(conv2d(h_pool1, W_conv2) + b_conv2)\n",
    "  h_pool2 = max_pool_2x2(h_conv2)\n",
    "\n",
    "  # Densely Connected Layer\n",
    "  W_fc1 = weight_variable([7 * 7 * 64, 1024])\n",
    "  b_fc1 = bias_variable([1024])\n",
    "  h_pool2_flat = tf.reshape(h_pool2, [-1, 7 * 7 * 64])\n",
    "  h_fc1 = tf.nn.relu(tf.matmul(h_pool2_flat, W_fc1) + b_fc1)\n",
    "\n",
    "  # Dropout\n",
    "  is_training = tf.estimator.ModeKeys.TRAIN\n",
    "  keep_prob = params[\"dropout\"] if mode == is_training else 1.0\n",
    "  h_fc1_drop = tf.nn.dropout(h_fc1, keep_prob)\n",
    "\n",
    "  # Readout Layer\n",
    "  W_fc2 = weight_variable([1024, 10])\n",
    "  b_fc2 = bias_variable([10])\n",
    "  y_conv = tf.matmul(h_fc1_drop, W_fc2) + b_fc2\n",
    "\n",
    "  # Reshape output layer to 1-dim Tensor to return predictions\n",
    "  predictions = tf.argmax(y_conv,1)\n",
    "\n",
    "  # Provide an estimator spec for `ModeKeys.PREDICT`.\n",
    "  if mode == tf.estimator.ModeKeys.PREDICT:\n",
    "    return tf.estimator.EstimatorSpec(\n",
    "        mode=mode, predictions={\"digits\": predictions})\n",
    "\n",
    "  # Calculate loss using tf.losses.softmax_cross_entropy\n",
    "  loss = tf.losses.softmax_cross_entropy(tf.one_hot(labels, 10), y_conv)\n",
    "\n",
    "  optimizer = tf.train.AdamOptimizer(learning_rate=params[\"learning_rate\"])\n",
    "  train_op = optimizer.minimize(loss=loss,\n",
    "                                global_step=tf.train.get_global_step())\n",
    "\n",
    "  # Calculate accuracy as additional eval metric\n",
    "  eval_metric_ops = {\n",
    "      \"accu\": tf.metrics.accuracy(tf.cast(labels, tf.float64), predictions)\n",
    "  }\n",
    "\n",
    "  # Provide an estimator spec for `ModeKeys.EVAL` and `ModeKeys.TRAIN` modes.\n",
    "  return tf.estimator.EstimatorSpec(\n",
    "      mode=mode, loss=loss, train_op=train_op, eval_metric_ops=eval_metric_ops)"
   ]
  },
  {
   "cell_type": "markdown",
   "metadata": {
    "collapsed": true
   },
   "source": [
    "### Seting the model parameters"
   ]
  },
  {
   "cell_type": "code",
   "execution_count": 6,
   "metadata": {
    "collapsed": true
   },
   "outputs": [],
   "source": [
    "model_params = {\"learning_rate\": LEARNING_RATE,\n",
    "                \"dropout\": DROPOUT}"
   ]
  },
  {
   "cell_type": "markdown",
   "metadata": {
    "collapsed": true
   },
   "source": [
    "### Instantiating the Estimator"
   ]
  },
  {
   "cell_type": "code",
   "execution_count": 7,
   "metadata": {},
   "outputs": [
    {
     "name": "stdout",
     "output_type": "stream",
     "text": [
      "INFO:tensorflow:Using default config.\n",
      "WARNING:tensorflow:Using temporary folder as model directory: /tmp/tmpnl63308h\n",
      "INFO:tensorflow:Using config: {'_save_summary_steps': 100, '_save_checkpoints_secs': 600, '_save_checkpoints_steps': None, '_session_config': None, '_model_dir': '/tmp/tmpnl63308h', '_log_step_count_steps': 100, '_tf_random_seed': 1, '_keep_checkpoint_every_n_hours': 10000, '_keep_checkpoint_max': 5}\n"
     ]
    }
   ],
   "source": [
    "cnn = tf.estimator.Estimator(model_fn=model_fn, params=model_params)"
   ]
  },
  {
   "cell_type": "markdown",
   "metadata": {
    "collapsed": true
   },
   "source": [
    "### Building the generical input function"
   ]
  },
  {
   "cell_type": "code",
   "execution_count": 8,
   "metadata": {
    "collapsed": true
   },
   "outputs": [],
   "source": [
    "def input_fn(data_set, num_epochs=None, shuffle=True):\n",
    "  return tf.estimator.inputs.numpy_input_fn(\n",
    "      x={\"x\": np.array(data_set.images)},\n",
    "      y=np.array(data_set.labels),\n",
    "      num_epochs=num_epochs,\n",
    "      shuffle=shuffle)"
   ]
  },
  {
   "cell_type": "markdown",
   "metadata": {
    "collapsed": true
   },
   "source": [
    "### Training the model"
   ]
  },
  {
   "cell_type": "code",
   "execution_count": 9,
   "metadata": {
    "scrolled": true
   },
   "outputs": [
    {
     "name": "stdout",
     "output_type": "stream",
     "text": [
      "INFO:tensorflow:Create CheckpointSaverHook.\n",
      "INFO:tensorflow:Saving checkpoints for 1 into /tmp/tmpnl63308h/model.ckpt.\n",
      "INFO:tensorflow:step = 1, loss = 10.6289\n",
      "INFO:tensorflow:global_step/sec: 2.93746\n",
      "INFO:tensorflow:step = 101, loss = 3.26788 (34.044 sec)\n",
      "INFO:tensorflow:global_step/sec: 2.85717\n",
      "INFO:tensorflow:step = 201, loss = 1.08854 (35.000 sec)\n",
      "INFO:tensorflow:global_step/sec: 2.84423\n",
      "INFO:tensorflow:step = 301, loss = 0.899641 (35.159 sec)\n",
      "INFO:tensorflow:global_step/sec: 2.86073\n",
      "INFO:tensorflow:step = 401, loss = 0.778074 (34.956 sec)\n",
      "INFO:tensorflow:global_step/sec: 2.8419\n",
      "INFO:tensorflow:step = 501, loss = 0.525563 (35.188 sec)\n",
      "INFO:tensorflow:global_step/sec: 2.85293\n",
      "INFO:tensorflow:step = 601, loss = 0.274618 (35.052 sec)\n",
      "INFO:tensorflow:global_step/sec: 2.86965\n",
      "INFO:tensorflow:step = 701, loss = 0.389013 (34.847 sec)\n",
      "INFO:tensorflow:global_step/sec: 2.84411\n",
      "INFO:tensorflow:step = 801, loss = 0.268866 (35.160 sec)\n",
      "INFO:tensorflow:global_step/sec: 2.8412\n",
      "INFO:tensorflow:step = 901, loss = 0.271192 (35.196 sec)\n",
      "INFO:tensorflow:global_step/sec: 2.833\n",
      "INFO:tensorflow:step = 1001, loss = 0.267974 (35.298 sec)\n",
      "INFO:tensorflow:global_step/sec: 2.87799\n",
      "INFO:tensorflow:step = 1101, loss = 0.343306 (34.747 sec)\n",
      "INFO:tensorflow:global_step/sec: 2.87732\n",
      "INFO:tensorflow:step = 1201, loss = 0.326287 (34.754 sec)\n",
      "INFO:tensorflow:global_step/sec: 2.87361\n",
      "INFO:tensorflow:step = 1301, loss = 0.191395 (34.799 sec)\n",
      "INFO:tensorflow:global_step/sec: 2.88134\n",
      "INFO:tensorflow:step = 1401, loss = 0.238093 (34.706 sec)\n",
      "INFO:tensorflow:global_step/sec: 2.88796\n",
      "INFO:tensorflow:step = 1501, loss = 0.25647 (34.627 sec)\n",
      "INFO:tensorflow:global_step/sec: 2.88375\n",
      "INFO:tensorflow:step = 1601, loss = 0.186579 (34.677 sec)\n",
      "INFO:tensorflow:global_step/sec: 2.8821\n",
      "INFO:tensorflow:step = 1701, loss = 0.299376 (34.697 sec)\n",
      "INFO:tensorflow:Saving checkpoints for 1722 into /tmp/tmpnl63308h/model.ckpt.\n",
      "INFO:tensorflow:global_step/sec: 2.87607\n",
      "INFO:tensorflow:step = 1801, loss = 0.150931 (34.770 sec)\n",
      "INFO:tensorflow:global_step/sec: 2.88093\n",
      "INFO:tensorflow:step = 1901, loss = 0.190345 (34.711 sec)\n",
      "INFO:tensorflow:global_step/sec: 2.88221\n",
      "INFO:tensorflow:step = 2001, loss = 0.221689 (34.696 sec)\n",
      "INFO:tensorflow:global_step/sec: 2.8698\n",
      "INFO:tensorflow:step = 2101, loss = 0.210892 (34.845 sec)\n",
      "INFO:tensorflow:global_step/sec: 2.87812\n",
      "INFO:tensorflow:step = 2201, loss = 0.162542 (34.745 sec)\n",
      "INFO:tensorflow:global_step/sec: 2.8839\n",
      "INFO:tensorflow:step = 2301, loss = 0.121224 (34.675 sec)\n",
      "INFO:tensorflow:global_step/sec: 2.87879\n",
      "INFO:tensorflow:step = 2401, loss = 0.196424 (34.737 sec)\n",
      "INFO:tensorflow:global_step/sec: 2.87817\n",
      "INFO:tensorflow:step = 2501, loss = 0.201568 (34.744 sec)\n",
      "INFO:tensorflow:global_step/sec: 2.88062\n",
      "INFO:tensorflow:step = 2601, loss = 0.136777 (34.715 sec)\n",
      "INFO:tensorflow:global_step/sec: 2.88568\n",
      "INFO:tensorflow:step = 2701, loss = 0.116252 (34.654 sec)\n",
      "INFO:tensorflow:global_step/sec: 2.88777\n",
      "INFO:tensorflow:step = 2801, loss = 0.181156 (34.629 sec)\n",
      "INFO:tensorflow:global_step/sec: 2.8734\n",
      "INFO:tensorflow:step = 2901, loss = 0.0841629 (34.802 sec)\n",
      "INFO:tensorflow:global_step/sec: 2.88646\n",
      "INFO:tensorflow:step = 3001, loss = 0.118599 (34.645 sec)\n",
      "INFO:tensorflow:global_step/sec: 2.8816\n",
      "INFO:tensorflow:step = 3101, loss = 0.140301 (34.703 sec)\n",
      "INFO:tensorflow:global_step/sec: 2.88775\n",
      "INFO:tensorflow:step = 3201, loss = 0.089182 (34.629 sec)\n",
      "INFO:tensorflow:global_step/sec: 2.88522\n",
      "INFO:tensorflow:step = 3301, loss = 0.237897 (34.659 sec)\n",
      "INFO:tensorflow:global_step/sec: 2.88094\n",
      "INFO:tensorflow:step = 3401, loss = 0.0843261 (34.711 sec)\n",
      "INFO:tensorflow:Saving checkpoints for 3451 into /tmp/tmpnl63308h/model.ckpt.\n",
      "INFO:tensorflow:global_step/sec: 2.87205\n",
      "INFO:tensorflow:step = 3501, loss = 0.221488 (34.818 sec)\n",
      "INFO:tensorflow:global_step/sec: 2.88279\n",
      "INFO:tensorflow:step = 3601, loss = 0.119432 (34.689 sec)\n",
      "INFO:tensorflow:global_step/sec: 2.8847\n",
      "INFO:tensorflow:step = 3701, loss = 0.101104 (34.666 sec)\n",
      "INFO:tensorflow:global_step/sec: 2.88227\n",
      "INFO:tensorflow:step = 3801, loss = 0.137194 (34.695 sec)\n",
      "INFO:tensorflow:global_step/sec: 2.88161\n",
      "INFO:tensorflow:step = 3901, loss = 0.0803509 (34.703 sec)\n",
      "INFO:tensorflow:global_step/sec: 2.8816\n",
      "INFO:tensorflow:step = 4001, loss = 0.158334 (34.703 sec)\n",
      "INFO:tensorflow:global_step/sec: 2.87615\n",
      "INFO:tensorflow:step = 4101, loss = 0.0869583 (34.769 sec)\n",
      "INFO:tensorflow:global_step/sec: 2.8794\n",
      "INFO:tensorflow:step = 4201, loss = 0.0754576 (34.730 sec)\n",
      "INFO:tensorflow:global_step/sec: 2.8719\n",
      "INFO:tensorflow:step = 4301, loss = 0.102808 (34.820 sec)\n",
      "INFO:tensorflow:global_step/sec: 2.87941\n",
      "INFO:tensorflow:step = 4401, loss = 0.209209 (34.729 sec)\n",
      "INFO:tensorflow:global_step/sec: 2.86973\n",
      "INFO:tensorflow:step = 4501, loss = 0.134693 (34.846 sec)\n",
      "INFO:tensorflow:global_step/sec: 2.8696\n",
      "INFO:tensorflow:step = 4601, loss = 0.0595663 (34.848 sec)\n",
      "INFO:tensorflow:global_step/sec: 2.87603\n",
      "INFO:tensorflow:step = 4701, loss = 0.0607737 (34.770 sec)\n",
      "INFO:tensorflow:global_step/sec: 2.87203\n",
      "INFO:tensorflow:step = 4801, loss = 0.0539101 (34.819 sec)\n",
      "INFO:tensorflow:global_step/sec: 2.86528\n",
      "INFO:tensorflow:step = 4901, loss = 0.0570015 (34.904 sec)\n",
      "INFO:tensorflow:global_step/sec: 2.87216\n",
      "INFO:tensorflow:step = 5001, loss = 0.0367211 (34.814 sec)\n",
      "INFO:tensorflow:global_step/sec: 2.87004\n",
      "INFO:tensorflow:step = 5101, loss = 0.0411201 (34.843 sec)\n",
      "INFO:tensorflow:Saving checkpoints for 5177 into /tmp/tmpnl63308h/model.ckpt.\n",
      "INFO:tensorflow:global_step/sec: 2.86869\n",
      "INFO:tensorflow:step = 5201, loss = 0.0327484 (34.859 sec)\n",
      "INFO:tensorflow:global_step/sec: 2.87866\n",
      "INFO:tensorflow:step = 5301, loss = 0.0891611 (34.738 sec)\n",
      "INFO:tensorflow:global_step/sec: 2.87851\n",
      "INFO:tensorflow:step = 5401, loss = 0.0978941 (34.740 sec)\n",
      "INFO:tensorflow:global_step/sec: 2.87669\n",
      "INFO:tensorflow:step = 5501, loss = 0.0612816 (34.762 sec)\n",
      "INFO:tensorflow:global_step/sec: 2.87956\n",
      "INFO:tensorflow:step = 5601, loss = 0.0464767 (34.728 sec)\n",
      "INFO:tensorflow:global_step/sec: 2.88133\n",
      "INFO:tensorflow:step = 5701, loss = 0.0764381 (34.706 sec)\n",
      "INFO:tensorflow:global_step/sec: 2.8783\n",
      "INFO:tensorflow:step = 5801, loss = 0.134136 (34.743 sec)\n",
      "INFO:tensorflow:global_step/sec: 2.87489\n",
      "INFO:tensorflow:step = 5901, loss = 0.0471505 (34.784 sec)\n",
      "INFO:tensorflow:global_step/sec: 2.87275\n",
      "INFO:tensorflow:step = 6001, loss = 0.0879633 (34.810 sec)\n",
      "INFO:tensorflow:global_step/sec: 2.8636\n",
      "INFO:tensorflow:step = 6101, loss = 0.161194 (34.921 sec)\n",
      "INFO:tensorflow:global_step/sec: 2.86693\n",
      "INFO:tensorflow:step = 6201, loss = 0.0328313 (34.881 sec)\n",
      "INFO:tensorflow:global_step/sec: 2.87969\n",
      "INFO:tensorflow:step = 6301, loss = 0.0528895 (34.726 sec)\n",
      "INFO:tensorflow:global_step/sec: 2.87962\n",
      "INFO:tensorflow:step = 6401, loss = 0.0268929 (34.727 sec)\n",
      "INFO:tensorflow:global_step/sec: 2.87753\n",
      "INFO:tensorflow:step = 6501, loss = 0.0266274 (34.752 sec)\n",
      "INFO:tensorflow:global_step/sec: 2.87716\n",
      "INFO:tensorflow:step = 6601, loss = 0.0469281 (34.756 sec)\n",
      "INFO:tensorflow:global_step/sec: 2.87303\n",
      "INFO:tensorflow:step = 6701, loss = 0.0761459 (34.807 sec)\n",
      "INFO:tensorflow:global_step/sec: 2.87835\n",
      "INFO:tensorflow:step = 6801, loss = 0.0734688 (34.742 sec)\n",
      "INFO:tensorflow:global_step/sec: 2.87242\n",
      "INFO:tensorflow:step = 6901, loss = 0.116832 (34.814 sec)\n",
      "INFO:tensorflow:Saving checkpoints for 6903 into /tmp/tmpnl63308h/model.ckpt.\n",
      "INFO:tensorflow:global_step/sec: 2.87123\n",
      "INFO:tensorflow:step = 7001, loss = 0.0398547 (34.828 sec)\n",
      "INFO:tensorflow:global_step/sec: 2.87528\n",
      "INFO:tensorflow:step = 7101, loss = 0.0728058 (34.779 sec)\n",
      "INFO:tensorflow:global_step/sec: 2.87032\n",
      "INFO:tensorflow:step = 7201, loss = 0.0953263 (34.839 sec)\n",
      "INFO:tensorflow:global_step/sec: 2.87171\n",
      "INFO:tensorflow:step = 7301, loss = 0.0401983 (34.822 sec)\n",
      "INFO:tensorflow:global_step/sec: 2.8636\n",
      "INFO:tensorflow:step = 7401, loss = 0.0126649 (34.921 sec)\n",
      "INFO:tensorflow:global_step/sec: 2.87384\n",
      "INFO:tensorflow:step = 7501, loss = 0.105752 (34.797 sec)\n",
      "INFO:tensorflow:global_step/sec: 2.87216\n",
      "INFO:tensorflow:step = 7601, loss = 0.036649 (34.817 sec)\n",
      "INFO:tensorflow:global_step/sec: 2.8765\n",
      "INFO:tensorflow:step = 7701, loss = 0.0433824 (34.765 sec)\n",
      "INFO:tensorflow:global_step/sec: 2.8093\n",
      "INFO:tensorflow:step = 7801, loss = 0.0677327 (35.596 sec)\n"
     ]
    },
    {
     "name": "stdout",
     "output_type": "stream",
     "text": [
      "INFO:tensorflow:global_step/sec: 2.83131\n",
      "INFO:tensorflow:step = 7901, loss = 0.0135622 (35.319 sec)\n",
      "INFO:tensorflow:global_step/sec: 2.87026\n",
      "INFO:tensorflow:step = 8001, loss = 0.0395104 (34.840 sec)\n",
      "INFO:tensorflow:global_step/sec: 2.83561\n",
      "INFO:tensorflow:step = 8101, loss = 0.0955225 (35.266 sec)\n",
      "INFO:tensorflow:global_step/sec: 2.83925\n",
      "INFO:tensorflow:step = 8201, loss = 0.025801 (35.221 sec)\n",
      "INFO:tensorflow:global_step/sec: 2.86206\n",
      "INFO:tensorflow:step = 8301, loss = 0.143541 (34.940 sec)\n",
      "INFO:tensorflow:global_step/sec: 2.84955\n",
      "INFO:tensorflow:step = 8401, loss = 0.033911 (35.093 sec)\n",
      "INFO:tensorflow:global_step/sec: 2.83606\n",
      "INFO:tensorflow:step = 8501, loss = 0.0632803 (35.264 sec)\n",
      "INFO:tensorflow:global_step/sec: 2.83693\n",
      "INFO:tensorflow:step = 8601, loss = 0.0741283 (35.245 sec)\n",
      "INFO:tensorflow:Saving checkpoints for 8617 into /tmp/tmpnl63308h/model.ckpt.\n",
      "INFO:tensorflow:global_step/sec: 2.80218\n",
      "INFO:tensorflow:step = 8701, loss = 0.093864 (35.687 sec)\n",
      "INFO:tensorflow:global_step/sec: 2.71032\n",
      "INFO:tensorflow:step = 8801, loss = 0.0207362 (36.896 sec)\n",
      "INFO:tensorflow:global_step/sec: 2.27385\n",
      "INFO:tensorflow:step = 8901, loss = 0.0232589 (43.978 sec)\n",
      "INFO:tensorflow:global_step/sec: 2.79738\n",
      "INFO:tensorflow:step = 9001, loss = 0.0594367 (35.748 sec)\n",
      "INFO:tensorflow:global_step/sec: 2.80108\n",
      "INFO:tensorflow:step = 9101, loss = 0.0524733 (35.701 sec)\n",
      "INFO:tensorflow:global_step/sec: 2.72265\n",
      "INFO:tensorflow:step = 9201, loss = 0.0245824 (36.729 sec)\n",
      "INFO:tensorflow:global_step/sec: 2.4711\n",
      "INFO:tensorflow:step = 9301, loss = 0.0308926 (40.472 sec)\n",
      "INFO:tensorflow:global_step/sec: 2.52705\n",
      "INFO:tensorflow:step = 9401, loss = 0.0272047 (39.568 sec)\n",
      "INFO:tensorflow:global_step/sec: 2.61299\n",
      "INFO:tensorflow:step = 9501, loss = 0.0351446 (38.270 sec)\n",
      "INFO:tensorflow:global_step/sec: 2.43281\n",
      "INFO:tensorflow:step = 9601, loss = 0.0290258 (41.105 sec)\n",
      "INFO:tensorflow:global_step/sec: 2.37035\n",
      "INFO:tensorflow:step = 9701, loss = 0.0362448 (42.188 sec)\n",
      "INFO:tensorflow:global_step/sec: 2.48516\n",
      "INFO:tensorflow:step = 9801, loss = 0.0358588 (40.239 sec)\n",
      "INFO:tensorflow:global_step/sec: 2.48406\n",
      "INFO:tensorflow:step = 9901, loss = 0.0623942 (40.256 sec)\n",
      "INFO:tensorflow:global_step/sec: 2.49089\n",
      "INFO:tensorflow:step = 10001, loss = 0.0188965 (40.147 sec)\n",
      "INFO:tensorflow:global_step/sec: 2.51526\n",
      "INFO:tensorflow:step = 10101, loss = 0.0136913 (39.757 sec)\n",
      "INFO:tensorflow:Saving checkpoints for 10150 into /tmp/tmpnl63308h/model.ckpt.\n",
      "INFO:tensorflow:global_step/sec: 2.57115\n",
      "INFO:tensorflow:step = 10201, loss = 0.0079818 (38.893 sec)\n",
      "INFO:tensorflow:global_step/sec: 2.49949\n",
      "INFO:tensorflow:step = 10301, loss = 0.00921702 (40.008 sec)\n",
      "INFO:tensorflow:global_step/sec: 2.47919\n",
      "INFO:tensorflow:step = 10401, loss = 0.0687979 (40.336 sec)\n",
      "INFO:tensorflow:global_step/sec: 2.41631\n",
      "INFO:tensorflow:step = 10501, loss = 0.0280985 (41.388 sec)\n",
      "INFO:tensorflow:global_step/sec: 2.48977\n",
      "INFO:tensorflow:step = 10601, loss = 0.0269832 (40.161 sec)\n",
      "INFO:tensorflow:global_step/sec: 2.49003\n",
      "INFO:tensorflow:step = 10701, loss = 0.00940073 (40.160 sec)\n",
      "INFO:tensorflow:global_step/sec: 2.51662\n",
      "INFO:tensorflow:step = 10801, loss = 0.0689762 (39.736 sec)\n",
      "INFO:tensorflow:global_step/sec: 2.38183\n",
      "INFO:tensorflow:step = 10901, loss = 0.0135238 (41.985 sec)\n",
      "INFO:tensorflow:global_step/sec: 2.28429\n",
      "INFO:tensorflow:step = 11001, loss = 0.0378874 (43.777 sec)\n",
      "INFO:tensorflow:global_step/sec: 2.64394\n",
      "INFO:tensorflow:step = 11101, loss = 0.0166066 (37.822 sec)\n",
      "INFO:tensorflow:global_step/sec: 2.73122\n",
      "INFO:tensorflow:step = 11201, loss = 0.0158784 (36.614 sec)\n",
      "INFO:tensorflow:global_step/sec: 2.67889\n",
      "INFO:tensorflow:step = 11301, loss = 0.0338432 (37.329 sec)\n",
      "INFO:tensorflow:global_step/sec: 2.62451\n",
      "INFO:tensorflow:step = 11401, loss = 0.0227486 (38.102 sec)\n",
      "INFO:tensorflow:global_step/sec: 2.69685\n",
      "INFO:tensorflow:step = 11501, loss = 0.0289731 (37.080 sec)\n",
      "INFO:tensorflow:global_step/sec: 2.6856\n",
      "INFO:tensorflow:step = 11601, loss = 0.0360848 (37.236 sec)\n",
      "INFO:tensorflow:Saving checkpoints for 11676 into /tmp/tmpnl63308h/model.ckpt.\n",
      "INFO:tensorflow:global_step/sec: 2.65774\n",
      "INFO:tensorflow:step = 11701, loss = 0.017392 (37.626 sec)\n",
      "INFO:tensorflow:global_step/sec: 2.72353\n",
      "INFO:tensorflow:step = 11801, loss = 0.00714362 (36.717 sec)\n",
      "INFO:tensorflow:global_step/sec: 2.71126\n",
      "INFO:tensorflow:step = 11901, loss = 0.0380568 (36.883 sec)\n",
      "INFO:tensorflow:global_step/sec: 2.69353\n",
      "INFO:tensorflow:step = 12001, loss = 0.0261962 (37.126 sec)\n",
      "INFO:tensorflow:global_step/sec: 2.82588\n",
      "INFO:tensorflow:step = 12101, loss = 0.0466275 (35.387 sec)\n",
      "INFO:tensorflow:global_step/sec: 2.80628\n",
      "INFO:tensorflow:step = 12201, loss = 0.0155544 (35.634 sec)\n",
      "INFO:tensorflow:global_step/sec: 2.70331\n",
      "INFO:tensorflow:step = 12301, loss = 0.0151695 (36.992 sec)\n",
      "INFO:tensorflow:global_step/sec: 2.66686\n",
      "INFO:tensorflow:step = 12401, loss = 0.0672397 (37.497 sec)\n",
      "INFO:tensorflow:global_step/sec: 2.63265\n",
      "INFO:tensorflow:step = 12501, loss = 0.018934 (37.984 sec)\n",
      "INFO:tensorflow:global_step/sec: 2.66939\n",
      "INFO:tensorflow:step = 12601, loss = 0.0321305 (37.462 sec)\n",
      "INFO:tensorflow:global_step/sec: 2.62535\n",
      "INFO:tensorflow:step = 12701, loss = 0.0195929 (38.090 sec)\n",
      "INFO:tensorflow:global_step/sec: 2.6539\n",
      "INFO:tensorflow:step = 12801, loss = 0.0164888 (37.680 sec)\n",
      "INFO:tensorflow:global_step/sec: 2.77334\n",
      "INFO:tensorflow:step = 12901, loss = 0.0295174 (36.058 sec)\n",
      "INFO:tensorflow:global_step/sec: 2.77633\n",
      "INFO:tensorflow:step = 13001, loss = 0.0257549 (36.019 sec)\n",
      "INFO:tensorflow:global_step/sec: 2.7651\n",
      "INFO:tensorflow:step = 13101, loss = 0.0225973 (36.165 sec)\n",
      "INFO:tensorflow:global_step/sec: 2.79216\n",
      "INFO:tensorflow:step = 13201, loss = 0.0294625 (35.815 sec)\n",
      "INFO:tensorflow:global_step/sec: 2.77943\n",
      "INFO:tensorflow:step = 13301, loss = 0.0290717 (35.979 sec)\n",
      "INFO:tensorflow:Saving checkpoints for 13311 into /tmp/tmpnl63308h/model.ckpt.\n",
      "INFO:tensorflow:global_step/sec: 2.68255\n",
      "INFO:tensorflow:step = 13401, loss = 0.0361822 (37.278 sec)\n",
      "INFO:tensorflow:global_step/sec: 2.75204\n",
      "INFO:tensorflow:step = 13501, loss = 0.0319697 (36.336 sec)\n",
      "INFO:tensorflow:global_step/sec: 2.72565\n",
      "INFO:tensorflow:step = 13601, loss = 0.0155335 (36.688 sec)\n",
      "INFO:tensorflow:global_step/sec: 2.75356\n",
      "INFO:tensorflow:step = 13701, loss = 0.0352251 (36.317 sec)\n",
      "INFO:tensorflow:global_step/sec: 2.73906\n",
      "INFO:tensorflow:step = 13801, loss = 0.0153153 (36.512 sec)\n",
      "INFO:tensorflow:global_step/sec: 2.64766\n",
      "INFO:tensorflow:step = 13901, loss = 0.0181753 (37.766 sec)\n",
      "INFO:tensorflow:global_step/sec: 2.68934\n",
      "INFO:tensorflow:step = 14001, loss = 0.0309625 (37.184 sec)\n",
      "INFO:tensorflow:global_step/sec: 2.7105\n",
      "INFO:tensorflow:step = 14101, loss = 0.0145491 (36.893 sec)\n",
      "INFO:tensorflow:global_step/sec: 2.69733\n",
      "INFO:tensorflow:step = 14201, loss = 0.0403633 (37.074 sec)\n",
      "INFO:tensorflow:global_step/sec: 2.71638\n",
      "INFO:tensorflow:step = 14301, loss = 0.0438709 (36.814 sec)\n",
      "INFO:tensorflow:global_step/sec: 2.72718\n",
      "INFO:tensorflow:step = 14401, loss = 0.056584 (36.668 sec)\n",
      "INFO:tensorflow:global_step/sec: 2.69452\n",
      "INFO:tensorflow:step = 14501, loss = 0.0168544 (37.112 sec)\n",
      "INFO:tensorflow:global_step/sec: 2.71757\n",
      "INFO:tensorflow:step = 14601, loss = 0.0266651 (36.798 sec)\n",
      "INFO:tensorflow:global_step/sec: 2.74294\n",
      "INFO:tensorflow:step = 14701, loss = 0.0127812 (36.457 sec)\n",
      "INFO:tensorflow:global_step/sec: 2.7296\n",
      "INFO:tensorflow:step = 14801, loss = 0.00817848 (36.635 sec)\n",
      "INFO:tensorflow:global_step/sec: 2.66428\n",
      "INFO:tensorflow:step = 14901, loss = 0.0829992 (37.534 sec)\n",
      "INFO:tensorflow:Saving checkpoints for 14936 into /tmp/tmpnl63308h/model.ckpt.\n",
      "INFO:tensorflow:global_step/sec: 2.6229\n",
      "INFO:tensorflow:step = 15001, loss = 0.0100782 (38.126 sec)\n",
      "INFO:tensorflow:global_step/sec: 2.55778\n",
      "INFO:tensorflow:step = 15101, loss = 0.00597764 (39.096 sec)\n",
      "INFO:tensorflow:global_step/sec: 2.68162\n",
      "INFO:tensorflow:step = 15201, loss = 0.0422935 (37.291 sec)\n",
      "INFO:tensorflow:global_step/sec: 2.79392\n",
      "INFO:tensorflow:step = 15301, loss = 0.00882288 (35.792 sec)\n",
      "INFO:tensorflow:global_step/sec: 2.55786\n",
      "INFO:tensorflow:step = 15401, loss = 0.0349145 (39.095 sec)\n",
      "INFO:tensorflow:global_step/sec: 2.76627\n",
      "INFO:tensorflow:step = 15501, loss = 0.0174993 (36.149 sec)\n",
      "INFO:tensorflow:global_step/sec: 2.50541\n",
      "INFO:tensorflow:step = 15601, loss = 0.0133012 (39.914 sec)\n"
     ]
    },
    {
     "name": "stdout",
     "output_type": "stream",
     "text": [
      "INFO:tensorflow:global_step/sec: 2.51449\n",
      "INFO:tensorflow:step = 15701, loss = 0.0361881 (39.769 sec)\n",
      "INFO:tensorflow:global_step/sec: 2.56878\n",
      "INFO:tensorflow:step = 15801, loss = 0.0214074 (38.929 sec)\n",
      "INFO:tensorflow:global_step/sec: 2.68591\n",
      "INFO:tensorflow:step = 15901, loss = 0.0108409 (37.231 sec)\n",
      "INFO:tensorflow:global_step/sec: 2.72075\n",
      "INFO:tensorflow:step = 16001, loss = 0.0115348 (36.755 sec)\n",
      "INFO:tensorflow:global_step/sec: 2.61776\n",
      "INFO:tensorflow:step = 16101, loss = 0.0175295 (38.201 sec)\n",
      "INFO:tensorflow:global_step/sec: 2.6145\n",
      "INFO:tensorflow:step = 16201, loss = 0.0137942 (38.248 sec)\n",
      "INFO:tensorflow:global_step/sec: 2.64419\n",
      "INFO:tensorflow:step = 16301, loss = 0.0118817 (37.819 sec)\n",
      "INFO:tensorflow:global_step/sec: 2.7139\n",
      "INFO:tensorflow:step = 16401, loss = 0.0203952 (36.847 sec)\n",
      "INFO:tensorflow:global_step/sec: 2.59209\n",
      "INFO:tensorflow:step = 16501, loss = 0.0109041 (38.579 sec)\n",
      "INFO:tensorflow:Saving checkpoints for 16516 into /tmp/tmpnl63308h/model.ckpt.\n",
      "INFO:tensorflow:global_step/sec: 2.55804\n",
      "INFO:tensorflow:step = 16601, loss = 0.0208249 (39.092 sec)\n",
      "INFO:tensorflow:global_step/sec: 2.73759\n",
      "INFO:tensorflow:step = 16701, loss = 0.0315308 (36.528 sec)\n",
      "INFO:tensorflow:global_step/sec: 2.64434\n",
      "INFO:tensorflow:step = 16801, loss = 0.0147889 (37.817 sec)\n",
      "INFO:tensorflow:global_step/sec: 2.75519\n",
      "INFO:tensorflow:step = 16901, loss = 0.0167967 (36.295 sec)\n",
      "INFO:tensorflow:global_step/sec: 2.78002\n",
      "INFO:tensorflow:step = 17001, loss = 0.0336464 (35.971 sec)\n",
      "INFO:tensorflow:global_step/sec: 2.70458\n",
      "INFO:tensorflow:step = 17101, loss = 0.073535 (36.974 sec)\n",
      "INFO:tensorflow:global_step/sec: 2.59147\n",
      "INFO:tensorflow:step = 17201, loss = 0.00873426 (38.588 sec)\n",
      "INFO:tensorflow:global_step/sec: 2.56015\n",
      "INFO:tensorflow:step = 17301, loss = 0.00458877 (39.060 sec)\n",
      "INFO:tensorflow:global_step/sec: 2.62718\n",
      "INFO:tensorflow:step = 17401, loss = 0.00559566 (38.064 sec)\n",
      "INFO:tensorflow:global_step/sec: 2.48726\n",
      "INFO:tensorflow:step = 17501, loss = 0.0435823 (40.205 sec)\n",
      "INFO:tensorflow:global_step/sec: 2.11234\n",
      "INFO:tensorflow:step = 17601, loss = 0.0130828 (47.340 sec)\n",
      "INFO:tensorflow:global_step/sec: 2.59794\n",
      "INFO:tensorflow:step = 17701, loss = 0.0115099 (38.492 sec)\n",
      "INFO:tensorflow:global_step/sec: 2.74075\n",
      "INFO:tensorflow:step = 17801, loss = 0.015694 (36.486 sec)\n",
      "INFO:tensorflow:global_step/sec: 2.55437\n",
      "INFO:tensorflow:step = 17901, loss = 0.00991029 (39.149 sec)\n",
      "INFO:tensorflow:global_step/sec: 2.64033\n",
      "INFO:tensorflow:step = 18001, loss = 0.0330478 (37.874 sec)\n",
      "INFO:tensorflow:Saving checkpoints for 18078 into /tmp/tmpnl63308h/model.ckpt.\n",
      "INFO:tensorflow:global_step/sec: 2.73849\n",
      "INFO:tensorflow:step = 18101, loss = 0.00758063 (36.516 sec)\n",
      "INFO:tensorflow:global_step/sec: 2.73357\n",
      "INFO:tensorflow:step = 18201, loss = 0.0428441 (36.582 sec)\n",
      "INFO:tensorflow:global_step/sec: 2.7703\n",
      "INFO:tensorflow:step = 18301, loss = 0.0162267 (36.097 sec)\n",
      "INFO:tensorflow:global_step/sec: 2.7674\n",
      "INFO:tensorflow:step = 18401, loss = 0.03629 (36.135 sec)\n",
      "INFO:tensorflow:global_step/sec: 2.76174\n",
      "INFO:tensorflow:step = 18501, loss = 0.0143745 (36.209 sec)\n",
      "INFO:tensorflow:global_step/sec: 2.74495\n",
      "INFO:tensorflow:step = 18601, loss = 0.0108146 (36.431 sec)\n",
      "INFO:tensorflow:global_step/sec: 2.61363\n",
      "INFO:tensorflow:step = 18701, loss = 0.0154854 (38.261 sec)\n",
      "INFO:tensorflow:global_step/sec: 2.81963\n",
      "INFO:tensorflow:step = 18801, loss = 0.0164977 (35.466 sec)\n",
      "INFO:tensorflow:global_step/sec: 2.77997\n",
      "INFO:tensorflow:step = 18901, loss = 0.0169193 (35.972 sec)\n",
      "INFO:tensorflow:global_step/sec: 2.45577\n",
      "INFO:tensorflow:step = 19001, loss = 0.00657253 (40.720 sec)\n",
      "INFO:tensorflow:global_step/sec: 2.73931\n",
      "INFO:tensorflow:step = 19101, loss = 0.0195743 (36.506 sec)\n",
      "INFO:tensorflow:global_step/sec: 2.62716\n",
      "INFO:tensorflow:step = 19201, loss = 0.0120779 (38.065 sec)\n",
      "INFO:tensorflow:global_step/sec: 2.63834\n",
      "INFO:tensorflow:step = 19301, loss = 0.0141059 (37.902 sec)\n",
      "INFO:tensorflow:global_step/sec: 2.67359\n",
      "INFO:tensorflow:step = 19401, loss = 0.00415185 (37.403 sec)\n",
      "INFO:tensorflow:global_step/sec: 2.69888\n",
      "INFO:tensorflow:step = 19501, loss = 0.00782634 (37.052 sec)\n",
      "INFO:tensorflow:global_step/sec: 2.61324\n",
      "INFO:tensorflow:step = 19601, loss = 0.0158816 (38.267 sec)\n",
      "INFO:tensorflow:Saving checkpoints for 19694 into /tmp/tmpnl63308h/model.ckpt.\n",
      "INFO:tensorflow:global_step/sec: 2.65311\n",
      "INFO:tensorflow:step = 19701, loss = 0.0291027 (37.692 sec)\n",
      "INFO:tensorflow:global_step/sec: 2.77742\n",
      "INFO:tensorflow:step = 19801, loss = 0.0129552 (36.005 sec)\n",
      "INFO:tensorflow:global_step/sec: 2.65722\n",
      "INFO:tensorflow:step = 19901, loss = 0.00933006 (37.633 sec)\n",
      "INFO:tensorflow:Saving checkpoints for 20000 into /tmp/tmpnl63308h/model.ckpt.\n",
      "INFO:tensorflow:Loss for final step: 0.0540486.\n"
     ]
    },
    {
     "data": {
      "text/plain": [
       "<tensorflow.python.estimator.estimator.Estimator at 0x7f0a1cc64908>"
      ]
     },
     "execution_count": 9,
     "metadata": {},
     "output_type": "execute_result"
    }
   ],
   "source": [
    "cnn.train(input_fn=input_fn(train_set), steps=MAX_STEPS)"
   ]
  },
  {
   "cell_type": "markdown",
   "metadata": {
    "collapsed": true
   },
   "source": [
    "### Evaluating the model"
   ]
  },
  {
   "cell_type": "code",
   "execution_count": 10,
   "metadata": {},
   "outputs": [
    {
     "name": "stdout",
     "output_type": "stream",
     "text": [
      "INFO:tensorflow:Starting evaluation at 2017-09-27-12:34:03\n",
      "INFO:tensorflow:Restoring parameters from /tmp/tmpnl63308h/model.ckpt-20000\n",
      "INFO:tensorflow:Finished evaluation at 2017-09-27-12:34:08\n",
      "INFO:tensorflow:Saving dict for global step 20000: accu = 0.9924, global_step = 20000, loss = 0.0327811\n",
      "Loss: 0.0327811\n",
      "Accuracy: 0.9924\n"
     ]
    }
   ],
   "source": [
    "ev = cnn.evaluate(input_fn=input_fn(eval_set, num_epochs=1, shuffle=False))\n",
    "print(\"Loss: %s\" % ev[\"loss\"])\n",
    "print(\"Accuracy: %s\" % ev[\"accu\"])"
   ]
  },
  {
   "cell_type": "markdown",
   "metadata": {
    "collapsed": true
   },
   "source": [
    "### Predicting new examples and saving the predictions as a .txt file"
   ]
  },
  {
   "cell_type": "code",
   "execution_count": 11,
   "metadata": {
    "scrolled": true
   },
   "outputs": [
    {
     "name": "stdout",
     "output_type": "stream",
     "text": [
      "INFO:tensorflow:Restoring parameters from /tmp/tmpnl63308h/model.ckpt-20000\n"
     ]
    }
   ],
   "source": [
    "predictions = cnn.predict(input_fn=input_fn(test_set, num_epochs=1, shuffle=False))\n",
    "\n",
    "pred = [p[\"digits\"] for i, p in enumerate(predictions)]\n",
    "labels = np.array(test_set.labels)\n",
    "output_name = 'MNIST_data/Prediction_with_lr_{}_and_do_{}.txt'.format(LEARNING_RATE, DROPOUT)\n",
    "\n",
    "pd.DataFrame(np.array([pred, labels]).transpose(), columns=['pred', 'labels']).to_csv(output_name)"
   ]
  }
 ],
 "metadata": {
  "kernelspec": {
   "display_name": "Python 3",
   "language": "python",
   "name": "python3"
  },
  "language_info": {
   "codemirror_mode": {
    "name": "ipython",
    "version": 3
   },
   "file_extension": ".py",
   "mimetype": "text/x-python",
   "name": "python",
   "nbconvert_exporter": "python",
   "pygments_lexer": "ipython3",
   "version": "3.5.2"
  }
 },
 "nbformat": 4,
 "nbformat_minor": 2
}
